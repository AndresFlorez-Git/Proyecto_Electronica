{
 "cells": [
  {
   "cell_type": "code",
   "execution_count": 4,
   "metadata": {},
   "outputs": [
    {
     "name": "stdout",
     "output_type": "stream",
     "text": [
      "/home/jovyan/Segmentacion Semantica Git\n"
     ]
    }
   ],
   "source": [
    "import tensorflow as tf\n",
    "import numpy as np\n",
    "import matplotlib.pyplot as plt\n",
    "import os\n",
    "from skimage.io import imread, imshow\n",
    "from skimage.transform import resize\n",
    "from tqdm import tqdm\n",
    "import random\n",
    "\n",
    "\n",
    "\n",
    "path = os.path.dirname(os.path.abspath(''))\n",
    "print(str(path))\n",
    "#print(os.listdir(path))"
   ]
  },
  {
   "cell_type": "code",
   "execution_count": 2,
   "metadata": {},
   "outputs": [
    {
     "data": {
      "text/plain": [
       "'/home/jovyan/Segmentacion Semantica Git/Model U_Net'"
      ]
     },
     "execution_count": 2,
     "metadata": {},
     "output_type": "execute_result"
    }
   ],
   "source": [
    "os.path.abspath('')"
   ]
  },
  {
   "cell_type": "code",
   "execution_count": 13,
   "metadata": {},
   "outputs": [
    {
     "name": "stderr",
     "output_type": "stream",
     "text": [
      "  0%|          | 5/1915 [00:00<00:38, 49.81it/s]"
     ]
    },
    {
     "name": "stdout",
     "output_type": "stream",
     "text": [
      "Resizing train images\n"
     ]
    },
    {
     "name": "stderr",
     "output_type": "stream",
     "text": [
      "100%|██████████| 1915/1915 [01:20<00:00, 23.67it/s]\n",
      "  0%|          | 0/6 [00:00<?, ?it/s]"
     ]
    },
    {
     "name": "stdout",
     "output_type": "stream",
     "text": [
      "Resizing test images\n"
     ]
    },
    {
     "name": "stderr",
     "output_type": "stream",
     "text": [
      "100%|██████████| 6/6 [00:00<00:00, 12.52it/s]\n"
     ]
    }
   ],
   "source": [
    "import tensorflow as tf\n",
    "import numpy as np\n",
    "import matplotlib.pyplot as plt\n",
    "import os\n",
    "from skimage.io import imread, imshow\n",
    "from skimage.transform import resize\n",
    "from tqdm import tqdm\n",
    "import random\n",
    "\n",
    "\n",
    "##############################################################################\n",
    "######################  Declaración de variables #############################\n",
    "##############################################################################\n",
    "\n",
    "# Semilla de números alearorios \n",
    "seed = 54\n",
    "np.random.seed(seed)\n",
    "\n",
    "# Dimensiones de las imagenes RGB.\n",
    "IMG_WIDTH = 200\n",
    "IMG_HEIGHT = 200\n",
    "IMG_CHANNELS = 3\n",
    "\n",
    "##############################################################################\n",
    "####################  Path del data set original #############################\n",
    "##############################################################################\n",
    "\n",
    "# TRAIN_PATH_IMAGES = 'Dataset\\Segmentar\\Entreno\\ImaEscalada'\n",
    "# TRAIN_PATH_MASKS = 'Dataset\\Segmentar\\Entreno\\LabelsFinales'\n",
    "\n",
    "\n",
    "# Función que permite crear el aumento de fotografias. Mirar augmentation_function_segmentation.py para más info.\n",
    "# augmetation_data_set('Dataset\\Segmentar\\Entreno\\ImaEscalada','Dataset\\Segmentar\\Entreno\\LabelsFinales', 200, 20)\n",
    "\n",
    "##############################################################################\n",
    "####################  Path del data set aumentado ############################\n",
    "##############################################################################\n",
    "BASE_PATH = str(os.path.dirname(os.path.abspath('')))\n",
    "\n",
    "if ('\\\\' in BASE_PATH) == True:\n",
    "    separator_dir = '\\\\'\n",
    "else:\n",
    "    separator_dir = '/'\n",
    "# Path de las imagenes, mascaras e imagenes de prueba\n",
    "TRAIN_PATH_IMAGES = BASE_PATH + separator_dir + 'Augmented Train Data' + separator_dir + 'Images'\n",
    "TRAIN_PATH_MASKS = BASE_PATH + separator_dir + 'Augmented Train Data' + separator_dir + 'Masks'\n",
    "TEST_PATH_IMAGES = BASE_PATH + separator_dir +'Data Set' + separator_dir +'Test'\n",
    "\n",
    "\n",
    "##############################################################################\n",
    "#################  Procesar las imagenes aumentadas ##########################\n",
    "##############################################################################\n",
    "\n",
    "# Se obtienen los Ids de las imagenes aumentadas.\n",
    "Train_images_files = next(os.walk(TRAIN_PATH_IMAGES))[2]\n",
    "Train_masks_files = next(os.walk(TRAIN_PATH_MASKS))[2]\n",
    "Test_images_files = next(os.walk(TEST_PATH_IMAGES))[2]\n",
    "\n",
    "\n",
    "# Se declaran los arrays que almacenan las imagenes\n",
    "X_train = np.zeros((len(Train_images_files), IMG_HEIGHT, IMG_WIDTH, IMG_CHANNELS), dtype=np.uint8)\n",
    "Y_train = np.zeros((len(Train_images_files), IMG_HEIGHT, IMG_WIDTH, 1), dtype=np.bool)\n",
    "X_test = np.zeros((len(Test_images_files), IMG_HEIGHT, IMG_WIDTH, IMG_CHANNELS), dtype=np.uint8)\n",
    "\n",
    "\n",
    "# Se inicia el proceso de resizing de las imagenes de entrenamiento y las de prueba\n",
    "print('Resizing train images')\n",
    "\n",
    "for n, id_ in tqdm(enumerate(Train_images_files), total=len(Train_images_files)):\n",
    "    path_image = TRAIN_PATH_IMAGES + separator_dir\n",
    "    path_mask = TRAIN_PATH_MASKS + separator_dir\n",
    "    img = imread(path_image + Train_images_files[n])[:,:,:IMG_CHANNELS]\n",
    "    img = resize(img, (IMG_HEIGHT, IMG_WIDTH), mode='constant', preserve_range=True)\n",
    "    X_train[n] = img\n",
    "    mask = imread(path_mask + Train_masks_files[n])\n",
    "    mask = np.expand_dims(mask, axis=-1)\n",
    "    Y_train[n] = mask\n",
    "\n",
    "print('Resizing test images')\n",
    "for n, id_ in tqdm(enumerate(Test_images_files), total=len(Test_images_files)):\n",
    "    path_image = TEST_PATH_IMAGES + separator_dir\n",
    "    img = imread(path_image + Test_images_files[n])[:,:,:IMG_CHANNELS]\n",
    "    img = resize(img, (IMG_HEIGHT, IMG_WIDTH), mode='constant', preserve_range=True)\n",
    "    X_test[n] = img\n",
    "\n",
    "\n"
   ]
  },
  {
   "cell_type": "code",
   "execution_count": 12,
   "metadata": {},
   "outputs": [
    {
     "data": {
      "text/plain": [
       "True"
      ]
     },
     "execution_count": 12,
     "metadata": {},
     "output_type": "execute_result"
    }
   ],
   "source": [
    "BASE_PATH = str(os.path.dirname(os.path.abspath('')))\n",
    "\n",
    "'/' in BASE_PATH"
   ]
  },
  {
   "cell_type": "code",
   "execution_count": null,
   "metadata": {},
   "outputs": [],
   "source": []
  }
 ],
 "metadata": {
  "kernelspec": {
   "display_name": "Python 3",
   "language": "python",
   "name": "python3"
  },
  "language_info": {
   "codemirror_mode": {
    "name": "ipython",
    "version": 3
   },
   "file_extension": ".py",
   "mimetype": "text/x-python",
   "name": "python",
   "nbconvert_exporter": "python",
   "pygments_lexer": "ipython3",
   "version": "3.7.6"
  }
 },
 "nbformat": 4,
 "nbformat_minor": 4
}
